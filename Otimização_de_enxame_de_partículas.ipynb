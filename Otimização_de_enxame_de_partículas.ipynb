{
  "nbformat": 4,
  "nbformat_minor": 0,
  "metadata": {
    "colab": {
      "name": "Otimização de enxame de partículas",
      "provenance": [],
      "authorship_tag": "ABX9TyOwiluEXALavZ+4T8xOO9UK",
      "include_colab_link": true
    },
    "kernelspec": {
      "name": "python3",
      "display_name": "Python 3"
    },
    "language_info": {
      "name": "python"
    }
  },
  "cells": [
    {
      "cell_type": "markdown",
      "metadata": {
        "id": "view-in-github",
        "colab_type": "text"
      },
      "source": [
        "<a href=\"https://colab.research.google.com/github/uervitonsantos/Otimiza-o-de-enxame-de-particulas/blob/main/Otimiza%C3%A7%C3%A3o_de_enxame_de_part%C3%ADculas.ipynb\" target=\"_parent\"><img src=\"https://colab.research.google.com/assets/colab-badge.svg\" alt=\"Open In Colab\"/></a>"
      ]
    },
    {
      "cell_type": "markdown",
      "source": [
        "# Otimização de enxame de particulas\n",
        "Foi utilizado como referencia o artigo:\n",
        "https://nathanrooy.github.io/posts/2016-08-17/simple-particle-swarm-optimization-with-python/"
      ],
      "metadata": {
        "id": "X2KMAH4UU9_k"
      }
    },
    {
      "cell_type": "code",
      "execution_count": 5,
      "metadata": {
        "id": "5LW5isKWl52r"
      },
      "outputs": [],
      "source": [
        "#imports necessarios para o projeto\n",
        "from __future__ import division #https://docs.python.org/pt-br/3/library/__future__.html\n",
        "import random\n",
        "import math\n",
        "import numpy as np"
      ]
    },
    {
      "cell_type": "code",
      "source": [
        "# função que estamos tentando otimizar (minimizar)\n",
        "def func1(x):\n",
        "    total=0\n",
        "    for i in range(len(x)):\n",
        "        total+=x[i]**2\n",
        "    return total"
      ],
      "metadata": {
        "id": "FuohkxN7GEkO"
      },
      "execution_count": 6,
      "outputs": []
    },
    {
      "cell_type": "code",
      "source": [
        "# definição da função Rastrigin - https://en.wikipedia.org/wiki/Rastrigin_function\n",
        "def rastrigin(x):\n",
        "    return 10*len(x) + sum([(xi**2 - 10 * np.cos(2 * math.pi * xi)) for xi in x])"
      ],
      "metadata": {
        "id": "gRvY-S0WJLY_"
      },
      "execution_count": 11,
      "outputs": []
    },
    {
      "cell_type": "code",
      "source": [
        "# definição da função rosenbrock - https://en.wikipedia.org/wiki/Rosenbrock_function\n",
        "def rosenbrock(x):\n",
        "    total=0\n",
        "    for i in range(len(x)-1):\n",
        "        total += 100*((x[i]**2 - x[i+1])**2) + (1-x[i])**2\n",
        "        return total"
      ],
      "metadata": {
        "id": "BoLB-uekKBwU"
      },
      "execution_count": 12,
      "outputs": []
    },
    {
      "cell_type": "code",
      "source": [
        "#--- MAIN ---------------------------------------------------------------------+\n",
        "class Particle:\n",
        "    def __init__(self,x0):\n",
        "        self.position_i=[]          # particle position\n",
        "        self.velocity_i=[]          # particle velocity\n",
        "        self.pos_best_i=[]          # best position individual\n",
        "        self.err_best_i=-1          # best error individual\n",
        "        self.err_i=-1               # error individual\n",
        "\n",
        "        for i in range(0,num_dimensions):\n",
        "            self.velocity_i.append(random.uniform(-1,1))\n",
        "            self.position_i.append(x0[i])\n",
        "\n",
        "             # evaluate current fitness\n",
        "    def evaluate(self,costFunc):\n",
        "        self.err_i=costFunc(self.position_i)\n",
        "        # check to see if the current position is an individual best\n",
        "        if self.err_i < self.err_best_i or self.err_best_i==-1:\n",
        "            self.pos_best_i=self.position_i\n",
        "            self.err_best_i=self.err_i\n",
        "\n",
        "             # update new particle velocity\n",
        "    def update_velocity(self,pos_best_g):\n",
        "        w=0.5       # constant inertia weight (how much to weigh the previous velocity)\n",
        "        c1=1        # cognative constant\n",
        "        c2=2        # social constant\n",
        "\n",
        "        for i in range(0,num_dimensions):\n",
        "            r1=random.random()\n",
        "            r2=random.random()\n",
        "\n",
        "            vel_cognitive=c1*r1*(self.pos_best_i[i]-self.position_i[i])\n",
        "            vel_social=c2*r2*(pos_best_g[i]-self.position_i[i])\n",
        "            self.velocity_i[i]=w*self.velocity_i[i]+vel_cognitive+vel_social\n",
        "\n",
        "    # update the particle position based off new velocity updates\n",
        "    def update_position(self,bounds):\n",
        "        for i in range(0,num_dimensions):\n",
        "            self.position_i[i]=self.position_i[i]+self.velocity_i[i]\n",
        "\n",
        "            # adjust maximum position if necessary\n",
        "            if self.position_i[i]>bounds[i][1]:\n",
        "                self.position_i[i]=bounds[i][1]\n",
        "\n",
        "            # adjust minimum position if neseccary\n",
        "            if self.position_i[i] < bounds[i][0]:\n",
        "                self.position_i[i]=bounds[i][0]"
      ],
      "metadata": {
        "id": "BMQsSnQuGcqO"
      },
      "execution_count": 30,
      "outputs": []
    },
    {
      "cell_type": "code",
      "source": [
        "class PSO():\n",
        "    def __init__(self,costName,costFunc,x0,bounds,num_particles,maxiter):\n",
        "        global num_dimensions\n",
        "        num_dimensions=len(x0)\n",
        "        err_best_g=-1                   # best error for group\n",
        "        pos_best_g=[]                   # best position for group\n",
        "\n",
        "        # establish the swarm\n",
        "        swarm=[]\n",
        "        for i in range(0,num_particles):\n",
        "            swarm.append(Particle(x0))\n",
        "\n",
        "        # begin optimization loop\n",
        "        i=0\n",
        "        while i < maxiter:\n",
        "            #print i,err_best_g\n",
        "            # cycle through particles in swarm and evaluate fitness\n",
        "            for j in range(0,num_particles):\n",
        "                swarm[j].evaluate(costFunc)\n",
        "\n",
        "                # determine if current particle is the best (globally)\n",
        "                if swarm[j].err_i < err_best_g or err_best_g == -1:\n",
        "                    pos_best_g=list(swarm[j].position_i)\n",
        "                    err_best_g=float(swarm[j].err_i)\n",
        "\n",
        "            # cycle through swarm and update velocities and position\n",
        "            for j in range(0,num_particles):\n",
        "                swarm[j].update_velocity(pos_best_g)\n",
        "                swarm[j].update_position(bounds)\n",
        "            i+=1\n",
        "\n",
        "      # print final results\n",
        "        print('\\nFINAL SOLUTION:')\n",
        "        print(f' Funtcion {costName}')\n",
        "        print(f'   > {pos_best_g}')\n",
        "        print(f'   > {err_best_g}\\n')\n",
        "\n"
      ],
      "metadata": {
        "id": "gTRvjxGCQpw3"
      },
      "execution_count": 33,
      "outputs": []
    },
    {
      "cell_type": "code",
      "source": [
        "if __name__ == \"__PSO__\":\n",
        "    main()\n",
        "\n",
        "#--- RUN ----------------------------------------------------------------------+\n",
        "\n",
        "initial=[5,5]  # initial starting location [x1,x2...]\n",
        "bounds=[(-10,10),(-10,10)]  # input bounds [(x1_min,x1_max),(x2_min,x2_max)...]\n",
        "PSO(\"func1\",func1,initial,bounds,num_particles=100,maxiter=100);\n",
        "PSO(\"rastrigin\",rastrigin,initial,bounds,num_particles=100,maxiter=100);\n",
        "PSO(\"rosenbrock\",rosenbrock,initial,bounds,num_particles=100,maxiter=100);"
      ],
      "metadata": {
        "colab": {
          "base_uri": "https://localhost:8080/"
        },
        "id": "ItkLgV-tOrDa",
        "outputId": "b9d3f3f1-80b3-48dc-c8ae-14c5fdc98986"
      },
      "execution_count": 34,
      "outputs": [
        {
          "output_type": "stream",
          "name": "stdout",
          "text": [
            "\n",
            "FINAL SOLUTION:\n",
            " Funtcion func1\n",
            "   > [-1.0440852666170438e-13, -6.445762476370877e-13]\n",
            "   > 4.26379679457576e-25\n",
            "\n",
            "\n",
            "FINAL SOLUTION:\n",
            " Funtcion rastrigin\n",
            "   > [4.974691389494837, 4.9746913888927455]\n",
            "   > 49.747445869084444\n",
            "\n",
            "\n",
            "FINAL SOLUTION:\n",
            " Funtcion rosenbrock\n",
            "   > [0.999999999797994, 0.9999999992172631]\n",
            "   > 1.4384064451248196e-17\n",
            "\n"
          ]
        }
      ]
    }
  ]
}